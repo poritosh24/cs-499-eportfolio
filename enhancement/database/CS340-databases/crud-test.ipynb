{
 "cells": [
  {
   "cell_type": "markdown",
   "metadata": {},
   "source": [
    "# Python Testing Script for crudTest.py"
   ]
  },
  {
   "cell_type": "markdown",
   "metadata": {},
   "source": [
    "This script is a Jupyter Notebook IPYNB file that import and instantiate an object from the file **crud.py** to effect changes in MongoDB."
   ]
  },
  {
   "cell_type": "markdown",
   "metadata": {},
   "source": [
    "## User Authentication"
   ]
  },
  {
   "cell_type": "markdown",
   "metadata": {},
   "source": [
    "Import CRUD Python Module to call and test the instances of CRUD on the \"AnimalShelter\" class.\n",
    "and authenticate user in the specified MongoDB database \"AAC\"."
   ]
  },
  {
   "cell_type": "code",
   "execution_count": null,
   "metadata": {
    "scrolled": true
   },
   "outputs": [],
   "source": [
    "from crudTest import AnimalShelter\n",
    "user = AnimalShelter('aacuser', 'cs340', 'AAC')"
   ]
  },
  {
   "cell_type": "markdown",
   "metadata": {},
   "source": [
    "## Create Method"
   ]
  },
  {
   "cell_type": "markdown",
   "metadata": {},
   "source": [
    "Inserts documents into the specified MongoDB database \"AAC\" and collection \"animals\". Data shuould be a list of one or more dictionary."
   ]
  },
  {
   "cell_type": "code",
   "execution_count": null,
   "metadata": {
    "scrolled": true
   },
   "outputs": [],
   "source": [
    "doc1 = [{'animal_type': 'Elephant', 'datetime': '2021-02-07', 'name': 'Testing'},\n",
    "        {'animal_type': 'Panther', 'datetime': '2021-02-07', 'name': 'Testing2'}]\n",
    "user.create(doc1)"
   ]
  },
  {
   "cell_type": "markdown",
   "metadata": {},
   "source": [
    "## Read Method"
   ]
  },
  {
   "cell_type": "markdown",
   "metadata": {},
   "source": [
    "Queries to read documents from the specified MongoDB database \"AAC\" and specified collection \"animals\"."
   ]
  },
  {
   "cell_type": "code",
   "execution_count": null,
   "metadata": {
    "scrolled": true
   },
   "outputs": [],
   "source": [
    "doc2 = {'animal_type': {'$in': ['Elephant', 'Panther']}}\n",
    "user.read(doc2)"
   ]
  },
  {
   "cell_type": "markdown",
   "metadata": {},
   "source": [
    "## Update Method"
   ]
  },
  {
   "cell_type": "markdown",
   "metadata": {},
   "source": [
    "Queries to update documents from the specified MongoDB database \"AAC\" and specified collection \"animals\". The 4set query is required to have the key:value pair { 'update': 'true' }"
   ]
  },
  {
   "cell_type": "code",
   "execution_count": null,
   "metadata": {
    "scrolled": false
   },
   "outputs": [],
   "source": [
    "doc3 = ({'animal_type': 'Elephant', 'name': {'$ne':'Testing3'}}, {'$set': {'name': 'Testing3', 'update': 'true'}})\n",
    "user.update(doc3)"
   ]
  },
  {
   "cell_type": "markdown",
   "metadata": {},
   "source": [
    "## Delete method"
   ]
  },
  {
   "cell_type": "markdown",
   "metadata": {},
   "source": [
    "Queries to delete documents from the specified MongoDB database \"AAC\" and specified collection \"animals\"."
   ]
  },
  {
   "cell_type": "code",
   "execution_count": null,
   "metadata": {
    "scrolled": false
   },
   "outputs": [],
   "source": [
    "doc4 = {'name': {'$regex': '^Testing'}}\n",
    "user.delete(doc4)"
   ]
  }
 ],
 "metadata": {
  "kernelspec": {
   "display_name": "Python 3 (ipykernel)",
   "language": "python",
   "name": "python3"
  },
  "language_info": {
   "codemirror_mode": {
    "name": "ipython",
    "version": 3
   },
   "file_extension": ".py",
   "mimetype": "text/x-python",
   "name": "python",
   "nbconvert_exporter": "python",
   "pygments_lexer": "ipython3",
   "version": "3.10.2"
  }
 },
 "nbformat": 4,
 "nbformat_minor": 2
}
